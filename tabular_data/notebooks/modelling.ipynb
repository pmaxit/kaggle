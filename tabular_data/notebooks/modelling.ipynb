{
 "metadata": {
  "language_info": {
   "codemirror_mode": {
    "name": "ipython",
    "version": 3
   },
   "file_extension": ".py",
   "mimetype": "text/x-python",
   "name": "python",
   "nbconvert_exporter": "python",
   "pygments_lexer": "ipython3",
   "version": "3.8.6"
  },
  "orig_nbformat": 2,
  "kernelspec": {
   "name": "python386jvsc74a57bd0baf9b38691353db4aaced5eebb5c5d067bde62f8d297a23724848dd35f93e574",
   "display_name": "Python 3.8.6 64-bit ('venv': venv)"
  },
  "metadata": {
   "interpreter": {
    "hash": "baf9b38691353db4aaced5eebb5c5d067bde62f8d297a23724848dd35f93e574"
   }
  }
 },
 "nbformat": 4,
 "nbformat_minor": 2,
 "cells": [
  {
   "cell_type": "code",
   "execution_count": 30,
   "metadata": {},
   "outputs": [],
   "source": [
    "import pandas as pd\n",
    "from sklearn.preprocessing import LabelEncoder"
   ]
  },
  {
   "cell_type": "code",
   "execution_count": 32,
   "metadata": {},
   "outputs": [],
   "source": [
    "import torch\n",
    "from torch import nn\n",
    "from torch.nn.utils import weight_norm\n",
    "import torch.optim as optim\n",
    "import torch.nn.functional as F\n",
    "\n",
    "from skorch import NeuralNetClassifier, NeuralNet\n",
    "from skorch.callbacks import EpochScoring\n",
    "from skorch.callbacks import LRScheduler, EarlyStopping\n",
    "from torch.optim.lr_scheduler import ReduceLROnPlateau\n",
    "\n",
    "\n",
    "import warnings\n",
    "warnings.filterwarnings(\"ignore\")\n",
    "\n",
    "#device = 'cuda' if torch.cuda.is_available() else 'cpu'\n",
    "device = 'cpu'\n",
    "torch.manual_seed(0)\n",
    "\n",
    "feature_dictionary_size= 360\n",
    "num_features = 75\n",
    "\n",
    "def residual_block(in_features, out_features, p_drop, non_linear = nn.ReLU(), *args, **kwargs):\n",
    "    return nn.Sequential(\n",
    "        nn.Dropout(p = p_drop),\n",
    "        weight_norm(nn.Linear(in_features, out_features)),\n",
    "        non_linear\n",
    "    )\n",
    "\n",
    "class TPSResidual(nn.Module):\n",
    "    def __init__(self, num_class = 9, dropout = 0.3, linear_nodes=32, linear_out=16, emb_output=4, num_block=3):\n",
    "        super().__init__()\n",
    "        self.num_block = num_block\n",
    "        self.final_module_list = nn.ModuleList()\n",
    "\n",
    "        self.embedding = nn.Embedding(feature_dictionary_size, emb_output)\n",
    "        self.flatten = nn.Flatten()\n",
    "\n",
    "        self.linear = weight_norm(nn.Linear(emb_output * num_features, linear_nodes ))\n",
    "\n",
    "        for res_num in range(self.num_block):\n",
    "            self.non_linear = nn.ELU() if res_num %2 else nn.ReLU()\n",
    "            self.lin_out = linear_out if res_num == (self.num_block - 1) else linear_nodes\n",
    "            self.final_module_list.append(residual_block(emb_output * num_features + (res_num + 1) * linear_nodes, \n",
    "                                self.lin_out, dropout, self.non_linear))\n",
    "        self.out = nn.Linear(linear_out, num_class)\n",
    "\n",
    "        # non-linearity - activation function\n",
    "        self.selu = nn.SELU()\n",
    "        self.dropout = nn.Dropout(p = dropout)\n",
    "\n",
    "    def forward(self, x):\n",
    "        x = torch.tensor(x).to(torch.int64)\n",
    "\n",
    "        # Embedding\n",
    "        e = self.embedding(x)\n",
    "        e = self.flatten(e)\n",
    "\n",
    "        h1 = self.dropout(e)\n",
    "        h1 = self.linear(h1)\n",
    "        h1 = self.selu(h1)\n",
    "\n",
    "        ri = torch.cat((e, h1), 1)\n",
    "        for res_num in range(self.num_block):\n",
    "            rx = self.final_module_list[res_num](ri)\n",
    "            ri = torch.cat((ri, rx), 1)\n",
    "        \n",
    "        return F.softmax(self.out(rx), dim =-1)\n",
    "\n",
    "lr_scheduler = LRScheduler(policy = ReduceLROnPlateau, monitor = 'valid_loss', mode = 'min', patience = 3, factor = 0.1, verbose = True)\n",
    "early_stopping = EarlyStopping(monitor='valid_loss', patience = 10, threshold = 0.0001, threshold_mode='rel', lower_is_better=True)\n",
    "\n",
    "net = NeuralNetClassifier(TPSResidual, device = device, lr = 0.001, max_epochs = 50, callbacks = [lr_scheduler, early_stopping])"
   ]
  },
  {
   "cell_type": "code",
   "execution_count": 15,
   "metadata": {},
   "outputs": [],
   "source": [
    "df = pd.read_csv(\"../../data/tabular/train_fold.csv\")"
   ]
  },
  {
   "cell_type": "code",
   "execution_count": 16,
   "metadata": {},
   "outputs": [
    {
     "output_type": "execute_result",
     "data": {
      "text/plain": [
       "   id  feature_0  feature_1  feature_2  feature_3  feature_4  feature_5  \\\n",
       "0   0          0          0          6          1          0          0   \n",
       "1   1          0          0          0          0          0          0   \n",
       "2   2          0          0          0          0          0          1   \n",
       "3   3          0          0          7          0          1          5   \n",
       "4   4          1          0          0          0          0          0   \n",
       "\n",
       "   feature_6  feature_7  feature_8  ...  feature_67  feature_68  feature_69  \\\n",
       "0          0          0          7  ...           0           0           0   \n",
       "1          0          0          0  ...           0           0           0   \n",
       "2          0          3          0  ...           0           0           0   \n",
       "3          2          2          0  ...           4           0           2   \n",
       "4          0          0          0  ...           0           0           0   \n",
       "\n",
       "   feature_70  feature_71  feature_72  feature_73  feature_74   target  kfold  \n",
       "0           0           0           2           0           0  Class_6    0.0  \n",
       "1           0           0           0           1           0  Class_6    1.0  \n",
       "2           1           0           0           0           0  Class_2    0.0  \n",
       "3           2           0           4           3           0  Class_8    1.0  \n",
       "4           0           0           0           0           0  Class_2    3.0  \n",
       "\n",
       "[5 rows x 78 columns]"
      ],
      "text/html": "<div>\n<style scoped>\n    .dataframe tbody tr th:only-of-type {\n        vertical-align: middle;\n    }\n\n    .dataframe tbody tr th {\n        vertical-align: top;\n    }\n\n    .dataframe thead th {\n        text-align: right;\n    }\n</style>\n<table border=\"1\" class=\"dataframe\">\n  <thead>\n    <tr style=\"text-align: right;\">\n      <th></th>\n      <th>id</th>\n      <th>feature_0</th>\n      <th>feature_1</th>\n      <th>feature_2</th>\n      <th>feature_3</th>\n      <th>feature_4</th>\n      <th>feature_5</th>\n      <th>feature_6</th>\n      <th>feature_7</th>\n      <th>feature_8</th>\n      <th>...</th>\n      <th>feature_67</th>\n      <th>feature_68</th>\n      <th>feature_69</th>\n      <th>feature_70</th>\n      <th>feature_71</th>\n      <th>feature_72</th>\n      <th>feature_73</th>\n      <th>feature_74</th>\n      <th>target</th>\n      <th>kfold</th>\n    </tr>\n  </thead>\n  <tbody>\n    <tr>\n      <th>0</th>\n      <td>0</td>\n      <td>0</td>\n      <td>0</td>\n      <td>6</td>\n      <td>1</td>\n      <td>0</td>\n      <td>0</td>\n      <td>0</td>\n      <td>0</td>\n      <td>7</td>\n      <td>...</td>\n      <td>0</td>\n      <td>0</td>\n      <td>0</td>\n      <td>0</td>\n      <td>0</td>\n      <td>2</td>\n      <td>0</td>\n      <td>0</td>\n      <td>Class_6</td>\n      <td>0.0</td>\n    </tr>\n    <tr>\n      <th>1</th>\n      <td>1</td>\n      <td>0</td>\n      <td>0</td>\n      <td>0</td>\n      <td>0</td>\n      <td>0</td>\n      <td>0</td>\n      <td>0</td>\n      <td>0</td>\n      <td>0</td>\n      <td>...</td>\n      <td>0</td>\n      <td>0</td>\n      <td>0</td>\n      <td>0</td>\n      <td>0</td>\n      <td>0</td>\n      <td>1</td>\n      <td>0</td>\n      <td>Class_6</td>\n      <td>1.0</td>\n    </tr>\n    <tr>\n      <th>2</th>\n      <td>2</td>\n      <td>0</td>\n      <td>0</td>\n      <td>0</td>\n      <td>0</td>\n      <td>0</td>\n      <td>1</td>\n      <td>0</td>\n      <td>3</td>\n      <td>0</td>\n      <td>...</td>\n      <td>0</td>\n      <td>0</td>\n      <td>0</td>\n      <td>1</td>\n      <td>0</td>\n      <td>0</td>\n      <td>0</td>\n      <td>0</td>\n      <td>Class_2</td>\n      <td>0.0</td>\n    </tr>\n    <tr>\n      <th>3</th>\n      <td>3</td>\n      <td>0</td>\n      <td>0</td>\n      <td>7</td>\n      <td>0</td>\n      <td>1</td>\n      <td>5</td>\n      <td>2</td>\n      <td>2</td>\n      <td>0</td>\n      <td>...</td>\n      <td>4</td>\n      <td>0</td>\n      <td>2</td>\n      <td>2</td>\n      <td>0</td>\n      <td>4</td>\n      <td>3</td>\n      <td>0</td>\n      <td>Class_8</td>\n      <td>1.0</td>\n    </tr>\n    <tr>\n      <th>4</th>\n      <td>4</td>\n      <td>1</td>\n      <td>0</td>\n      <td>0</td>\n      <td>0</td>\n      <td>0</td>\n      <td>0</td>\n      <td>0</td>\n      <td>0</td>\n      <td>0</td>\n      <td>...</td>\n      <td>0</td>\n      <td>0</td>\n      <td>0</td>\n      <td>0</td>\n      <td>0</td>\n      <td>0</td>\n      <td>0</td>\n      <td>0</td>\n      <td>Class_2</td>\n      <td>3.0</td>\n    </tr>\n  </tbody>\n</table>\n<p>5 rows × 78 columns</p>\n</div>"
     },
     "metadata": {},
     "execution_count": 16
    }
   ],
   "source": [
    "df.head()"
   ]
  },
  {
   "cell_type": "code",
   "execution_count": 26,
   "metadata": {},
   "outputs": [],
   "source": [
    "kfold = 0"
   ]
  },
  {
   "cell_type": "code",
   "execution_count": 28,
   "metadata": {},
   "outputs": [
    {
     "output_type": "execute_result",
     "data": {
      "text/plain": [
       "        feature_0  feature_1  feature_2  feature_3  feature_4  feature_5  \\\n",
       "1               0          0          0          0          0          0   \n",
       "3               0          0          7          0          1          5   \n",
       "4               1          0          0          0          0          0   \n",
       "5               0         15          0          0          0          1   \n",
       "6               0          1          2          1          0          2   \n",
       "...           ...        ...        ...        ...        ...        ...   \n",
       "199994          0          2          1          1          2          0   \n",
       "199996          0          2          0          0          1          0   \n",
       "199997          1          2          0          0          0          2   \n",
       "199998          0          0          2          0          2          1   \n",
       "199999          5          4          0         10          0          1   \n",
       "\n",
       "        feature_6  feature_7  feature_8  feature_9  ...  feature_65  \\\n",
       "1               0          0          0          0  ...           0   \n",
       "3               2          2          0          1  ...           0   \n",
       "4               0          0          0          0  ...           0   \n",
       "5               0          0          0          2  ...           0   \n",
       "6               0          0          0          2  ...           0   \n",
       "...           ...        ...        ...        ...  ...         ...   \n",
       "199994          0          1          0          6  ...           3   \n",
       "199996          0          0          0          0  ...           0   \n",
       "199997          0          1          8          4  ...           4   \n",
       "199998          0          0          3          1  ...           0   \n",
       "199999          0          0         12          2  ...           2   \n",
       "\n",
       "        feature_66  feature_67  feature_68  feature_69  feature_70  \\\n",
       "1                2           0           0           0           0   \n",
       "3                0           4           0           2           2   \n",
       "4                0           0           0           0           0   \n",
       "5                0           0           0           0           0   \n",
       "6                1           2           0           2           0   \n",
       "...            ...         ...         ...         ...         ...   \n",
       "199994           1          60           2           0           0   \n",
       "199996           0           0           0           0           0   \n",
       "199997           1           0           1           1           1   \n",
       "199998           0           0           3           2           1   \n",
       "199999           0           0           2           1           0   \n",
       "\n",
       "        feature_71  feature_72  feature_73  feature_74  \n",
       "1                0           0           1           0  \n",
       "3                0           4           3           0  \n",
       "4                0           0           0           0  \n",
       "5                0           0           0           0  \n",
       "6                1           0           0           0  \n",
       "...            ...         ...         ...         ...  \n",
       "199994           7           6           0           0  \n",
       "199996           0           0           0           0  \n",
       "199997           0           1           0           0  \n",
       "199998           0           0           1           0  \n",
       "199999           0           2           3           1  \n",
       "\n",
       "[160000 rows x 75 columns]"
      ],
      "text/html": "<div>\n<style scoped>\n    .dataframe tbody tr th:only-of-type {\n        vertical-align: middle;\n    }\n\n    .dataframe tbody tr th {\n        vertical-align: top;\n    }\n\n    .dataframe thead th {\n        text-align: right;\n    }\n</style>\n<table border=\"1\" class=\"dataframe\">\n  <thead>\n    <tr style=\"text-align: right;\">\n      <th></th>\n      <th>feature_0</th>\n      <th>feature_1</th>\n      <th>feature_2</th>\n      <th>feature_3</th>\n      <th>feature_4</th>\n      <th>feature_5</th>\n      <th>feature_6</th>\n      <th>feature_7</th>\n      <th>feature_8</th>\n      <th>feature_9</th>\n      <th>...</th>\n      <th>feature_65</th>\n      <th>feature_66</th>\n      <th>feature_67</th>\n      <th>feature_68</th>\n      <th>feature_69</th>\n      <th>feature_70</th>\n      <th>feature_71</th>\n      <th>feature_72</th>\n      <th>feature_73</th>\n      <th>feature_74</th>\n    </tr>\n  </thead>\n  <tbody>\n    <tr>\n      <th>1</th>\n      <td>0</td>\n      <td>0</td>\n      <td>0</td>\n      <td>0</td>\n      <td>0</td>\n      <td>0</td>\n      <td>0</td>\n      <td>0</td>\n      <td>0</td>\n      <td>0</td>\n      <td>...</td>\n      <td>0</td>\n      <td>2</td>\n      <td>0</td>\n      <td>0</td>\n      <td>0</td>\n      <td>0</td>\n      <td>0</td>\n      <td>0</td>\n      <td>1</td>\n      <td>0</td>\n    </tr>\n    <tr>\n      <th>3</th>\n      <td>0</td>\n      <td>0</td>\n      <td>7</td>\n      <td>0</td>\n      <td>1</td>\n      <td>5</td>\n      <td>2</td>\n      <td>2</td>\n      <td>0</td>\n      <td>1</td>\n      <td>...</td>\n      <td>0</td>\n      <td>0</td>\n      <td>4</td>\n      <td>0</td>\n      <td>2</td>\n      <td>2</td>\n      <td>0</td>\n      <td>4</td>\n      <td>3</td>\n      <td>0</td>\n    </tr>\n    <tr>\n      <th>4</th>\n      <td>1</td>\n      <td>0</td>\n      <td>0</td>\n      <td>0</td>\n      <td>0</td>\n      <td>0</td>\n      <td>0</td>\n      <td>0</td>\n      <td>0</td>\n      <td>0</td>\n      <td>...</td>\n      <td>0</td>\n      <td>0</td>\n      <td>0</td>\n      <td>0</td>\n      <td>0</td>\n      <td>0</td>\n      <td>0</td>\n      <td>0</td>\n      <td>0</td>\n      <td>0</td>\n    </tr>\n    <tr>\n      <th>5</th>\n      <td>0</td>\n      <td>15</td>\n      <td>0</td>\n      <td>0</td>\n      <td>0</td>\n      <td>1</td>\n      <td>0</td>\n      <td>0</td>\n      <td>0</td>\n      <td>2</td>\n      <td>...</td>\n      <td>0</td>\n      <td>0</td>\n      <td>0</td>\n      <td>0</td>\n      <td>0</td>\n      <td>0</td>\n      <td>0</td>\n      <td>0</td>\n      <td>0</td>\n      <td>0</td>\n    </tr>\n    <tr>\n      <th>6</th>\n      <td>0</td>\n      <td>1</td>\n      <td>2</td>\n      <td>1</td>\n      <td>0</td>\n      <td>2</td>\n      <td>0</td>\n      <td>0</td>\n      <td>0</td>\n      <td>2</td>\n      <td>...</td>\n      <td>0</td>\n      <td>1</td>\n      <td>2</td>\n      <td>0</td>\n      <td>2</td>\n      <td>0</td>\n      <td>1</td>\n      <td>0</td>\n      <td>0</td>\n      <td>0</td>\n    </tr>\n    <tr>\n      <th>...</th>\n      <td>...</td>\n      <td>...</td>\n      <td>...</td>\n      <td>...</td>\n      <td>...</td>\n      <td>...</td>\n      <td>...</td>\n      <td>...</td>\n      <td>...</td>\n      <td>...</td>\n      <td>...</td>\n      <td>...</td>\n      <td>...</td>\n      <td>...</td>\n      <td>...</td>\n      <td>...</td>\n      <td>...</td>\n      <td>...</td>\n      <td>...</td>\n      <td>...</td>\n      <td>...</td>\n    </tr>\n    <tr>\n      <th>199994</th>\n      <td>0</td>\n      <td>2</td>\n      <td>1</td>\n      <td>1</td>\n      <td>2</td>\n      <td>0</td>\n      <td>0</td>\n      <td>1</td>\n      <td>0</td>\n      <td>6</td>\n      <td>...</td>\n      <td>3</td>\n      <td>1</td>\n      <td>60</td>\n      <td>2</td>\n      <td>0</td>\n      <td>0</td>\n      <td>7</td>\n      <td>6</td>\n      <td>0</td>\n      <td>0</td>\n    </tr>\n    <tr>\n      <th>199996</th>\n      <td>0</td>\n      <td>2</td>\n      <td>0</td>\n      <td>0</td>\n      <td>1</td>\n      <td>0</td>\n      <td>0</td>\n      <td>0</td>\n      <td>0</td>\n      <td>0</td>\n      <td>...</td>\n      <td>0</td>\n      <td>0</td>\n      <td>0</td>\n      <td>0</td>\n      <td>0</td>\n      <td>0</td>\n      <td>0</td>\n      <td>0</td>\n      <td>0</td>\n      <td>0</td>\n    </tr>\n    <tr>\n      <th>199997</th>\n      <td>1</td>\n      <td>2</td>\n      <td>0</td>\n      <td>0</td>\n      <td>0</td>\n      <td>2</td>\n      <td>0</td>\n      <td>1</td>\n      <td>8</td>\n      <td>4</td>\n      <td>...</td>\n      <td>4</td>\n      <td>1</td>\n      <td>0</td>\n      <td>1</td>\n      <td>1</td>\n      <td>1</td>\n      <td>0</td>\n      <td>1</td>\n      <td>0</td>\n      <td>0</td>\n    </tr>\n    <tr>\n      <th>199998</th>\n      <td>0</td>\n      <td>0</td>\n      <td>2</td>\n      <td>0</td>\n      <td>2</td>\n      <td>1</td>\n      <td>0</td>\n      <td>0</td>\n      <td>3</td>\n      <td>1</td>\n      <td>...</td>\n      <td>0</td>\n      <td>0</td>\n      <td>0</td>\n      <td>3</td>\n      <td>2</td>\n      <td>1</td>\n      <td>0</td>\n      <td>0</td>\n      <td>1</td>\n      <td>0</td>\n    </tr>\n    <tr>\n      <th>199999</th>\n      <td>5</td>\n      <td>4</td>\n      <td>0</td>\n      <td>10</td>\n      <td>0</td>\n      <td>1</td>\n      <td>0</td>\n      <td>0</td>\n      <td>12</td>\n      <td>2</td>\n      <td>...</td>\n      <td>2</td>\n      <td>0</td>\n      <td>0</td>\n      <td>2</td>\n      <td>1</td>\n      <td>0</td>\n      <td>0</td>\n      <td>2</td>\n      <td>3</td>\n      <td>1</td>\n    </tr>\n  </tbody>\n</table>\n<p>160000 rows × 75 columns</p>\n</div>"
     },
     "metadata": {},
     "execution_count": 28
    }
   ],
   "source": [
    "X_train"
   ]
  },
  {
   "cell_type": "code",
   "execution_count": 33,
   "metadata": {},
   "outputs": [
    {
     "output_type": "stream",
     "name": "stdout",
     "text": [
      "  epoch    train_loss    valid_acc    valid_loss      dur\n-------  ------------  -----------  ------------  -------\n      1        \u001b[36m2.0569\u001b[0m       \u001b[32m0.2907\u001b[0m        \u001b[35m1.9227\u001b[0m  40.2589\n"
     ]
    },
    {
     "output_type": "execute_result",
     "data": {
      "text/plain": [
       "<class 'skorch.classifier.NeuralNetClassifier'>[initialized](\n",
       "  module_=TPSResidual(\n",
       "    (final_module_list): ModuleList(\n",
       "      (0): Sequential(\n",
       "        (0): Dropout(p=0.3, inplace=False)\n",
       "        (1): Linear(in_features=332, out_features=32, bias=True)\n",
       "        (2): ReLU()\n",
       "      )\n",
       "      (1): Sequential(\n",
       "        (0): Dropout(p=0.3, inplace=False)\n",
       "        (1): Linear(in_features=364, out_features=32, bias=True)\n",
       "        (2): ELU(alpha=1.0)\n",
       "      )\n",
       "      (2): Sequential(\n",
       "        (0): Dropout(p=0.3, inplace=False)\n",
       "        (1): Linear(in_features=396, out_features=16, bias=True)\n",
       "        (2): ReLU()\n",
       "      )\n",
       "    )\n",
       "    (embedding): Embedding(360, 4)\n",
       "    (flatten): Flatten(start_dim=1, end_dim=-1)\n",
       "    (linear): Linear(in_features=300, out_features=32, bias=True)\n",
       "    (non_linear): ReLU()\n",
       "    (out): Linear(in_features=16, out_features=9, bias=True)\n",
       "    (selu): SELU()\n",
       "    (dropout): Dropout(p=0.3, inplace=False)\n",
       "  ),\n",
       ")"
      ]
     },
     "metadata": {},
     "execution_count": 33
    }
   ],
   "source": [
    "train_df = df[df['kfold'] != kfold]\n",
    "valid_df = df[df['kfold']==kfold]\n",
    "lencoder = LabelEncoder()\n",
    "\n",
    "X_train = train_df.drop(['id','target','kfold'],axis=1).values.astype('float32')\n",
    "y_train = lencoder.fit_transform(train_df['target']).astype('int64')\n",
    "\n",
    "net.fit(X_train, y_train)"
   ]
  },
  {
   "cell_type": "code",
   "execution_count": null,
   "metadata": {},
   "outputs": [],
   "source": []
  }
 ]
}